{
 "cells": [
  {
   "cell_type": "markdown",
   "id": "1c4a97da",
   "metadata": {},
   "source": [
    "# 01 Programming assignment\n",
    "# Michael A. Staff\n",
    "# CS-150-01"
   ]
  },
  {
   "cell_type": "code",
   "execution_count": 29,
   "id": "defdaa71",
   "metadata": {},
   "outputs": [
    {
     "name": "stdout",
     "output_type": "stream",
     "text": [
      "Please type a floating point number: 40.5\n",
      "Now, please type an integer: 5\n",
      "Here is the sum:  45.5\n",
      "Here is the difference:  35.5\n",
      "Here is the product:  202.5\n",
      "Here is the quotient:  8.1\n"
     ]
    }
   ],
   "source": [
    "x= float(input(\"Please type a floating point number: \"))\n",
    "\n",
    "y= int(input(\"Now, please type an integer: \"))\n",
    "\n",
    "total=(x+y)\n",
    "print(\"Here is the sum: \",total)\n",
    "total=(x-y)\n",
    "print(\"Here is the difference: \",total)\n",
    "total=(x*y)\n",
    "print(\"Here is the product: \",total)\n",
    "total=(x/y)\n",
    "print(\"Here is the quotient: \",total)"
   ]
  },
  {
   "cell_type": "code",
   "execution_count": null,
   "id": "85791a4e",
   "metadata": {},
   "outputs": [],
   "source": []
  },
  {
   "cell_type": "code",
   "execution_count": null,
   "id": "f5149231",
   "metadata": {},
   "outputs": [],
   "source": []
  },
  {
   "cell_type": "code",
   "execution_count": null,
   "id": "e0953b12",
   "metadata": {},
   "outputs": [],
   "source": []
  },
  {
   "cell_type": "code",
   "execution_count": null,
   "id": "49f9f449",
   "metadata": {},
   "outputs": [],
   "source": []
  },
  {
   "cell_type": "code",
   "execution_count": null,
   "id": "9035a50b",
   "metadata": {},
   "outputs": [],
   "source": []
  }
 ],
 "metadata": {
  "kernelspec": {
   "display_name": "Python 3",
   "language": "python",
   "name": "python3"
  },
  "language_info": {
   "codemirror_mode": {
    "name": "ipython",
    "version": 3
   },
   "file_extension": ".py",
   "mimetype": "text/x-python",
   "name": "python",
   "nbconvert_exporter": "python",
   "pygments_lexer": "ipython3",
   "version": "3.8.8"
  }
 },
 "nbformat": 4,
 "nbformat_minor": 5
}
